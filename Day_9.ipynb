{
  "nbformat": 4,
  "nbformat_minor": 0,
  "metadata": {
    "colab": {
      "name": "Day 9.ipynb",
      "provenance": [],
      "collapsed_sections": []
    },
    "kernelspec": {
      "name": "python3",
      "display_name": "Python 3"
    }
  },
  "cells": [
    {
      "cell_type": "code",
      "metadata": {
        "id": "0uoE8xKJ1gHb",
        "colab_type": "code",
        "colab": {}
      },
      "source": [
        "#ques.2\n",
        "lst = list(range(1,1000+1))\n",
        "def armstrong(lst):    \n",
        "    for num in lst:\n",
        "        s = 0\n",
        "        temp = num\n",
        "        while temp > 0:\n",
        "            d = temp % 10\n",
        "            s += d ** 3\n",
        "            temp //= 10\n",
        "        if num == s:\n",
        "            yield num\n",
        "list(armstrong(lst))"
      ],
      "execution_count": null,
      "outputs": []
    }
  ]
}