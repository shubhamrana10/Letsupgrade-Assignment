{
  "nbformat": 4,
  "nbformat_minor": 0,
  "metadata": {
    "colab": {
      "name": "Day 5.ipynb",
      "provenance": []
    },
    "kernelspec": {
      "name": "python3",
      "display_name": "Python 3"
    }
  },
  "cells": [
    {
      "cell_type": "code",
      "metadata": {
        "id": "VYK2bgrcxIde",
        "colab_type": "code",
        "colab": {
          "base_uri": "https://localhost:8080/",
          "height": 34
        },
        "outputId": "f20bfb70-9bc7-4a19-c599-a0fed46cd2c8"
      },
      "source": [
        "#Ques.1\n",
        "lst = [1, 1, 5]\n",
        "\n",
        "lst1 = []\n",
        "\n",
        "l = int(input(\"\\nEnter the length of the list : \"))\n",
        "\n",
        "j = 0;\n",
        "\n",
        "\n",
        "for i in range (0,l):\n",
        "\n",
        "    lst1.append(int(input(\"\\nEnter the number for the list : \")))\n",
        "\n",
        "print()\n",
        "\n",
        "print(\"List is : \", lst1)\n",
        "\n",
        "for i in range(0,l):\n",
        "    \n",
        "    if( lst1[i] == lst[j] ):\n",
        "        \n",
        "        j += 1\n",
        "        \n",
        "        i += 1\n",
        "        \n",
        "    else:\n",
        "        \n",
        "        i +=1\n",
        "    \n",
        "if( j == 3 ):\n",
        "\n",
        "    print (\"\\nIt's a match\")\n",
        "\n",
        "else:\n",
        "\n",
        "    print (\"\\nIt's Gone\")"
      ],
      "execution_count": 8,
      "outputs": [
        {
          "output_type": "stream",
          "text": [
            "The first armstrong number is : 1741725\n"
          ],
          "name": "stdout"
        }
      ]
    },
    {
      "cell_type": "code",
      "metadata": {
        "id": "N8XKKMO-yS4Q",
        "colab_type": "code",
        "colab": {}
      },
      "source": [
        "#Ques 2.\n",
        "def prime(i):\n",
        "    \n",
        "    for j in range(2,i):\n",
        "        \n",
        "        if i % j == 0:\n",
        "        \n",
        "            break\n",
        "        \n",
        "    else:\n",
        "        \n",
        "        return i\n",
        "\n",
        "primeNo = filter(prime, range(1, 2500+1))\n",
        "\n",
        "print ('\\nPrime numbers between 1-2500:\\n')\n",
        "\n",
        "print(list(primeNo))"
      ],
      "execution_count": null,
      "outputs": []
    },
    {
      "cell_type": "code",
      "metadata": {
        "id": "CG74tmn6yTSU",
        "colab_type": "code",
        "colab": {}
      },
      "source": [
        "#Ques.3\n",
        "lst = [\"hey I am Shubham\",\"i am from Delhi\"]\n",
        "\n",
        "print(\"\\nOriginal list : \\n\")\n",
        "\n",
        "print(lst)\n",
        "\n",
        "result = list(map(lambda words: \" \".join([word.capitalize() for word in words.split( )]) ,lst))\n",
        "\n",
        "print(\"\\nCapitalized list is : \\n\")\n",
        "\n",
        "print(result)"
      ],
      "execution_count": null,
      "outputs": []
    },
    {
      "cell_type": "code",
      "metadata": {
        "id": "twXF1TKw4db-",
        "colab_type": "code",
        "colab": {}
      },
      "source": [
        ""
      ],
      "execution_count": null,
      "outputs": []
    }
  ]
}