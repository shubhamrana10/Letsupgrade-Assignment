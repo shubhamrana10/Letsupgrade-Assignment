{
  "nbformat": 4,
  "nbformat_minor": 0,
  "metadata": {
    "colab": {
      "name": "Day 6.ipynb",
      "provenance": [],
      "collapsed_sections": []
    },
    "kernelspec": {
      "name": "python3",
      "display_name": "Python 3"
    }
  },
  "cells": [
    {
      "cell_type": "code",
      "metadata": {
        "id": "VYK2bgrcxIde",
        "colab_type": "code",
        "colab": {
          "base_uri": "https://localhost:8080/",
          "height": 286
        },
        "outputId": "5ff918c0-4934-4157-a408-c908248e7daf"
      },
      "source": [
        "#Ques.1\n",
        "class BankAccount: \n",
        "\n",
        "    def __init__(self): \n",
        "\n",
        "        self.ownerName=\"Shubham Rana\"\n",
        "        \n",
        "        self.Balance=0\n",
        "        \n",
        "    def deposit(self): \n",
        "        \n",
        "        Amount=float(input(\"\\nEnter amount to be Deposited : \")) \n",
        "        \n",
        "        self.Balance += Amount \n",
        "        \n",
        "        print(\"\\nAmount Deposited is :\",Amount) \n",
        "  \n",
        "    def withdraw(self): \n",
        "        \n",
        "        Amount = float(input(\"\\nEnter amount to be Withdrawn : \")) \n",
        "        \n",
        "        if self.Balance >= Amount: \n",
        "        \n",
        "            self.Balance -= Amount \n",
        "            \n",
        "            print(\"\\nYou have Withdrew :\", Amount) \n",
        "        \n",
        "        else: \n",
        "        \n",
        "            print(\"\\nInsufficient balance in the account...\") \n",
        "\n",
        "print(\"\\n---WELCOME TO BACK ACCOUNT PROGRAM---\")\n",
        "    \n",
        "BA = BankAccount()\n",
        "\n",
        "print(\"\\nAccount Holder Name is :\",BA.ownerName)\n",
        "    \n",
        "print(\"\\nInitial Account Balance is :\",BA.Balance)\n",
        "   \n",
        "BA.deposit();\n",
        "    \n",
        "BA.withdraw();\n",
        "    \n",
        "print(\"\\nNet Avaliable balance is : \",BA.Balance)"
      ],
      "execution_count": 9,
      "outputs": [
        {
          "output_type": "stream",
          "text": [
            "\n",
            "---WELCOME TO BACK ACCOUNT PROGRAM---\n",
            "\n",
            "Account Holder Name is : Shubham Rana\n",
            "\n",
            "Initial Account Balance is : 0\n",
            "\n",
            "Enter amount to be Deposited : 2000\n",
            "\n",
            "Amount Deposited is : 2000.0\n",
            "\n",
            "Enter amount to be Withdrawn : 1000\n",
            "\n",
            "You have Withdrew : 1000.0\n",
            "\n",
            "Net Avaliable balance is :  1000.0\n"
          ],
          "name": "stdout"
        }
      ]
    },
    {
      "cell_type": "code",
      "metadata": {
        "id": "E0eLuq2SzZN8",
        "colab_type": "code",
        "colab": {
          "base_uri": "https://localhost:8080/",
          "height": 151
        },
        "outputId": "53294b6d-cb59-431f-fcd9-ffe2c784d157"
      },
      "source": [
        "#Ques.2\n",
        "import math\n",
        "\n",
        "pi = math.pi\n",
        "\n",
        "class cone:\n",
        "    \n",
        "    def __init__(self,r,h): \n",
        "\n",
        "        self.r=r\n",
        "        \n",
        "        self.h=h\n",
        "        \n",
        "    def volume(self):\n",
        "        \n",
        "        result = (1 / 3) * pi * self.r * self.r * self.h\n",
        "        \n",
        "        print(\"\\nVolume Of Cone is :\",result)\n",
        "        \n",
        "    def surfacearea(self):\n",
        "        \n",
        "        result = pi * self.r * self.h + pi * self.r * self.r\n",
        "         \n",
        "        print(\"\\nSurface Area Of Cone is :\",result)\n",
        "        \n",
        "ra = float(input(\"\\nEnter the radius of cone : \"))\n",
        "\n",
        "he = float(input(\"\\nEnter the height of cone : \"))\n",
        "\n",
        "c = cone( ra, he)\n",
        "\n",
        "c.volume()\n",
        "\n",
        "c.surfacearea()"
      ],
      "execution_count": 10,
      "outputs": [
        {
          "output_type": "stream",
          "text": [
            "\n",
            "Enter the radius of cone : 3\n",
            "\n",
            "Enter the height of cone : 6\n",
            "\n",
            "Volume Of Cone is : 56.548667764616276\n",
            "\n",
            "Surface Area Of Cone is : 84.82300164692441\n"
          ],
          "name": "stdout"
        }
      ]
    }
  ]
}