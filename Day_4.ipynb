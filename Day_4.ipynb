{
  "nbformat": 4,
  "nbformat_minor": 0,
  "metadata": {
    "colab": {
      "name": "Day 4.ipynb",
      "provenance": []
    },
    "kernelspec": {
      "name": "python3",
      "display_name": "Python 3"
    }
  },
  "cells": [
    {
      "cell_type": "code",
      "metadata": {
        "id": "VYK2bgrcxIde",
        "colab_type": "code",
        "colab": {
          "base_uri": "https://localhost:8080/",
          "height": 34
        },
        "outputId": "f20bfb70-9bc7-4a19-c599-a0fed46cd2c8"
      },
      "source": [
        "n = 1042000\n",
        "\n",
        "while n <= 702648265:\n",
        "\n",
        "    order = len(str(n))\n",
        "    \n",
        "    s=0\n",
        "\n",
        "    num = n\n",
        "    \n",
        "    while num > 0:\n",
        "        \n",
        "        digit = num % 10\n",
        "        \n",
        "        s += digit ** order\n",
        "        \n",
        "        num //= 10\n",
        "\n",
        "    if n == s:\n",
        "        print(\"The first armstrong number is :\",n)\n",
        "        break\n",
        "    \n",
        "    n += 1"
      ],
      "execution_count": 8,
      "outputs": [
        {
          "output_type": "stream",
          "text": [
            "The first armstrong number is : 1741725\n"
          ],
          "name": "stdout"
        }
      ]
    },
    {
      "cell_type": "code",
      "metadata": {
        "id": "twXF1TKw4db-",
        "colab_type": "code",
        "colab": {}
      },
      "source": [
        ""
      ],
      "execution_count": null,
      "outputs": []
    }
  ]
}