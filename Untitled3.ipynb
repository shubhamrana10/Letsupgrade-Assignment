{
  "nbformat": 4,
  "nbformat_minor": 0,
  "metadata": {
    "colab": {
      "name": "Untitled3.ipynb",
      "provenance": []
    },
    "kernelspec": {
      "name": "python3",
      "display_name": "Python 3"
    }
  },
  "cells": [
    {
      "cell_type": "code",
      "metadata": {
        "id": "iHZcUo8-lF8C",
        "colab_type": "code",
        "colab": {}
      },
      "source": [
        "#List"
      ],
      "execution_count": null,
      "outputs": []
    },
    {
      "cell_type": "code",
      "metadata": {
        "id": "Ktwfd7T5lm3g",
        "colab_type": "code",
        "colab": {}
      },
      "source": [
        "list2=list([1])\n",
        "list1=['a','b']\n",
        "#list2=[1,2]\n",
        "print(list1)\n",
        "print(list2)\n",
        "list1.extend(list2)\n",
        "print(list1)\n",
        "list1.append(2)\n",
        "print(list1)\n",
        "list1.insert(2,\"hey\")\n",
        "print(list1)\n",
        "list1.remove(\"hey\")\n",
        "print(list1)\n",
        "list1.pop()\n",
        "print(list1)\n",
        "print(list1.index(1))\n",
        "#list1.clear()\n",
        "print(list1.count('a'))\n",
        "list3=[1,32,4,43,5]\n",
        "list3.reverse()\n",
        "print(list3)\n",
        "list3.sort()\n",
        "print(list3)\n",
        "list4=list1.copy()\n",
        "print(list4)\n"
      ],
      "execution_count": null,
      "outputs": []
    },
    {
      "cell_type": "code",
      "metadata": {
        "id": "PX6FOOZglpSp",
        "colab_type": "code",
        "colab": {}
      },
      "source": [
        "#Tuple"
      ],
      "execution_count": null,
      "outputs": []
    },
    {
      "cell_type": "code",
      "metadata": {
        "id": "GEuUkNdIlsao",
        "colab_type": "code",
        "colab": {}
      },
      "source": [
        "a=(1,4,3,2,5,2,6)\n",
        "print(a)\n",
        "print(a.count(2))\n",
        "print(a.index(4))\n"
      ],
      "execution_count": null,
      "outputs": []
    },
    {
      "cell_type": "code",
      "metadata": {
        "id": "P3GevJbhmCXI",
        "colab_type": "code",
        "colab": {}
      },
      "source": [
        "#Dictionary"
      ],
      "execution_count": null,
      "outputs": []
    },
    {
      "cell_type": "code",
      "metadata": {
        "id": "BPbFUmfqmFTK",
        "colab_type": "code",
        "colab": {}
      },
      "source": [
        "month_conversion={\n",
        "  \"Jan\":\"January\",\n",
        "  'Feb':'February',\n",
        "  'Mar':'March',\n",
        "  'May':\"May\",\n",
        "  \"Jun\":\"June\",\n",
        "  \"Jul\":\"July\",\n",
        "  \"Aug\":\"August\",\n",
        "  \"Sep\":\"September\",\n",
        "  \"Oct\":\"October\",\n",
        "  \"Nov\":\"November\",\n",
        "  \"Dec\":\"December\"\n",
        "}\n",
        "print(month_conversion[\"Jun\"])\n",
        "print(month_conversion.get(\"Dec\"))\n",
        "print(month_conversion.get(\"dec\",\"Not a Valid Key\"))\n",
        "print(month_conversion.clear())"
      ],
      "execution_count": null,
      "outputs": []
    },
    {
      "cell_type": "code",
      "metadata": {
        "id": "95aMV8QMmWFA",
        "colab_type": "code",
        "colab": {}
      },
      "source": [
        "#Set"
      ],
      "execution_count": null,
      "outputs": []
    },
    {
      "cell_type": "code",
      "metadata": {
        "id": "_kNDXFnPmqtg",
        "colab_type": "code",
        "colab": {
          "base_uri": "https://localhost:8080/",
          "height": 50
        },
        "outputId": "441548df-934a-4da5-bc6b-64ebc41303a2"
      },
      "source": [
        "st={1,2,\"da\",41,4}\n",
        "st1={1,5,7,8,\"a\"}\n",
        "st.add(10)\n",
        "st.intersection(st1)\n",
        "st.union(st1)\n",
        "st.issubset(st1)\n",
        "st.remove(2)\n",
        "print(st)\n",
        "st.pop()\n",
        "print(st)"
      ],
      "execution_count": 14,
      "outputs": [
        {
          "output_type": "stream",
          "text": [
            "{1, 4, 'da', 41, 10}\n",
            "{4, 'da', 41, 10}\n"
          ],
          "name": "stdout"
        }
      ]
    },
    {
      "cell_type": "code",
      "metadata": {
        "id": "gJRFOu_woA40",
        "colab_type": "code",
        "colab": {}
      },
      "source": [
        "#string"
      ],
      "execution_count": null,
      "outputs": []
    },
    {
      "cell_type": "code",
      "metadata": {
        "id": "29e8BLJLoDch",
        "colab_type": "code",
        "colab": {
          "base_uri": "https://localhost:8080/",
          "height": 35
        },
        "outputId": "bc37139b-f6ad-4c6f-ed71-b5f826b51fe0"
      },
      "source": [
        "a=\"Hello\"\n",
        "a.count('e')\n",
        "a.isalnum()\n",
        "a.islower()\n",
        "a.isupper()\n",
        "a.upper()\n",
        "a.lower()"
      ],
      "execution_count": 22,
      "outputs": [
        {
          "output_type": "execute_result",
          "data": {
            "application/vnd.google.colaboratory.intrinsic+json": {
              "type": "string"
            },
            "text/plain": [
              "'hello'"
            ]
          },
          "metadata": {
            "tags": []
          },
          "execution_count": 22
        }
      ]
    }
  ]
}